{
 "cells": [
  {
   "cell_type": "markdown",
   "id": "intro",
   "metadata": {},
   "source": [
    "# Proyecto: Análisis de Comportamiento de Usuarios\n",
    "\n",
    "Este notebook realiza los siguientes pasos:\n",
    "\n",
    "1. Carga y exploración del dataset\n",
    "2. División en conjuntos de entrenamiento, validación y prueba\n",
    "3. Entrenamiento y ajuste de hiperparámetros de un modelo (Random Forest)\n",
    "4. Evaluación del modelo en el conjunto de validación y prueba\n",
    "5. Prueba de cordura del modelo\n",
    "\n",
    "El dataset (`users_behavior.csv`) contiene la siguiente información para cada usuario:\n",
    "- `calls`: número de llamadas\n",
    "- `minutes`: duración total de llamadas en minutos\n",
    "- `messages`: número de mensajes de texto\n",
    "- `mb_used`: tráfico de Internet utilizado en MB\n",
    "- `is_ultra`: plan del mes actual (Ultra - 1, Smart - 0)"
   ]
  },
  {
   "cell_type": "code",
   "execution_count": 1,
   "id": "importacion-datos",
   "metadata": {},
   "outputs": [
    {
     "name": "stdout",
     "output_type": "stream",
     "text": [
      "Primeras filas del dataset:\n",
      "   calls  minutes  messages   mb_used  is_ultra\n",
      "0   40.0   311.90      83.0  19915.42         0\n",
      "1   85.0   516.75      56.0  22696.96         0\n",
      "2   77.0   467.66      86.0  21060.45         0\n",
      "3  106.0   745.53      81.0   8437.39         1\n",
      "4   66.0   418.74       1.0  14502.75         0\n",
      "Estadísticas descriptivas:\n",
      "             calls      minutes     messages       mb_used     is_ultra\n",
      "count  3214.000000  3214.000000  3214.000000   3214.000000  3214.000000\n",
      "mean     63.038892   438.208787    38.281269  17207.673836     0.306472\n",
      "std      33.236368   234.569872    36.148326   7570.968246     0.461100\n",
      "min       0.000000     0.000000     0.000000      0.000000     0.000000\n",
      "25%      40.000000   274.575000     9.000000  12491.902500     0.000000\n",
      "50%      62.000000   430.600000    30.000000  16943.235000     0.000000\n",
      "75%      82.000000   571.927500    57.000000  21424.700000     1.000000\n",
      "max     244.000000  1632.060000   224.000000  49745.730000     1.000000\n",
      "Información del dataset:\n",
      "<class 'pandas.core.frame.DataFrame'>\n",
      "RangeIndex: 3214 entries, 0 to 3213\n",
      "Data columns (total 5 columns):\n",
      " #   Column    Non-Null Count  Dtype  \n",
      "---  ------    --------------  -----  \n",
      " 0   calls     3214 non-null   float64\n",
      " 1   minutes   3214 non-null   float64\n",
      " 2   messages  3214 non-null   float64\n",
      " 3   mb_used   3214 non-null   float64\n",
      " 4   is_ultra  3214 non-null   int64  \n",
      "dtypes: float64(4), int64(1)\n",
      "memory usage: 125.7 KB\n",
      "None\n"
     ]
    }
   ],
   "source": [
    "import pandas as pd\n",
    "import numpy as np\n",
    "import matplotlib.pyplot as plt\n",
    "from sklearn.model_selection import train_test_split, GridSearchCV\n",
    "from sklearn.ensemble import RandomForestClassifier\n",
    "from sklearn.metrics import accuracy_score, classification_report\n",
    "\n",
    "# Cargar el dataset\n",
    "data = pd.read_csv(\"/Users/juanvielmapereyra/NOTEBOOKS/Modelo_Machine_Learning_Sprint9/users_behavior.csv\")\n",
    "\n",
    "# Mostrar las primeras filas del dataset\n",
    "print(\"Primeras filas del dataset:\")\n",
    "print(data.head())\n",
    "\n",
    "# Mostrar estadísticas descriptivas\n",
    "print(\"Estadísticas descriptivas:\")\n",
    "print(data.describe())\n",
    "\n",
    "# Información general del dataset\n",
    "print(\"Información del dataset:\")\n",
    "print(data.info())"
   ]
  },
  {
   "cell_type": "markdown",
   "id": "division-datos",
   "metadata": {},
   "source": [
    "## División del Conjunto de Datos\n",
    "\n",
    "Separamos las características (`calls`, `minutes`, `messages`, `mb_used`) de la variable objetivo (`is_ultra`) y dividimos el dataset en entrenamiento (60%), validación (20%) y prueba (20%)."
   ]
  },
  {
   "cell_type": "code",
   "execution_count": 2,
   "id": "split-dataset",
   "metadata": {},
   "outputs": [
    {
     "name": "stdout",
     "output_type": "stream",
     "text": [
      "Tamaño del conjunto de entrenamiento: (1928, 4)\n",
      "Tamaño del conjunto de validación: (643, 4)\n",
      "Tamaño del conjunto de prueba: (643, 4)\n"
     ]
    }
   ],
   "source": [
    "# Separar características y variable objetivo\n",
    "X = data[['calls', 'minutes', 'messages', 'mb_used']]\n",
    "y = data['is_ultra']\n",
    "\n",
    "# Primera división: entrenamiento (60%) y conjunto temporal (40%)\n",
    "X_train, X_temp, y_train, y_temp = train_test_split(X, y, test_size=0.4, random_state=42)\n",
    "\n",
    "# Segunda división: el conjunto temporal se divide en validación (20%) y prueba (20%)\n",
    "X_val, X_test, y_val, y_test = train_test_split(X_temp, y_temp, test_size=0.5, random_state=42)\n",
    "\n",
    "print(\"Tamaño del conjunto de entrenamiento:\", X_train.shape)\n",
    "print(\"Tamaño del conjunto de validación:\", X_val.shape)\n",
    "print(\"Tamaño del conjunto de prueba:\", X_test.shape)"
   ]
  },
  {
   "cell_type": "markdown",
   "id": "entrenamiento-modelo",
   "metadata": {},
   "source": [
    "## Entrenamiento y Ajuste de Hiperparámetros\n",
    "\n",
    "Utilizaremos un **Random Forest** y `GridSearchCV` para encontrar la mejor combinación de hiperparámetros."
   ]
  },
  {
   "cell_type": "code",
   "execution_count": 3,
   "id": "grid-search",
   "metadata": {},
   "outputs": [
    {
     "name": "stdout",
     "output_type": "stream",
     "text": [
      "Mejores hiperparámetros: {'max_depth': None, 'min_samples_split': 10, 'n_estimators': 150}\n",
      "Accuracy en validación: 0.8055987558320373\n",
      "Reporte de clasificación en validación:\n",
      "              precision    recall  f1-score   support\n",
      "\n",
      "           0       0.82      0.93      0.87       446\n",
      "           1       0.76      0.53      0.63       197\n",
      "\n",
      "    accuracy                           0.81       643\n",
      "   macro avg       0.79      0.73      0.75       643\n",
      "weighted avg       0.80      0.81      0.79       643\n",
      "\n"
     ]
    }
   ],
   "source": [
    "# Definir el clasificador y la grilla de hiperparámetros\n",
    "rf = RandomForestClassifier(random_state=42)\n",
    "param_grid = {\n",
    "    'n_estimators': [50, 100, 150],\n",
    "    'max_depth': [None, 5, 10],\n",
    "    'min_samples_split': [2, 5, 10]\n",
    "}\n",
    "\n",
    "# Configurar GridSearchCV\n",
    "grid_rf = GridSearchCV(rf, param_grid, cv=5, scoring='accuracy')\n",
    "grid_rf.fit(X_train, y_train)\n",
    "\n",
    "# Mejor modelo encontrado\n",
    "best_rf = grid_rf.best_estimator_\n",
    "print(\"Mejores hiperparámetros:\", grid_rf.best_params_)\n",
    "\n",
    "# Evaluar en el conjunto de validación\n",
    "y_val_pred = best_rf.predict(X_val)\n",
    "print(\"Accuracy en validación:\", accuracy_score(y_val, y_val_pred))\n",
    "print(\"Reporte de clasificación en validación:\")\n",
    "print(classification_report(y_val, y_val_pred))"
   ]
  },
  {
   "cell_type": "markdown",
   "id": "evaluacion-final",
   "metadata": {},
   "source": [
    "## Evaluación Final en el Conjunto de Prueba\n",
    "\n",
    "Una vez seleccionado el mejor modelo basado en el conjunto de validación, se evalúa su desempeño final en el conjunto de prueba."
   ]
  },
  {
   "cell_type": "code",
   "execution_count": 4,
   "id": "test-evaluation",
   "metadata": {},
   "outputs": [
    {
     "name": "stdout",
     "output_type": "stream",
     "text": [
      "Accuracy en prueba: 0.8164852255054432\n",
      "Reporte de clasificación en prueba:\n",
      "              precision    recall  f1-score   support\n",
      "\n",
      "           0       0.84      0.92      0.87       448\n",
      "           1       0.75      0.58      0.66       195\n",
      "\n",
      "    accuracy                           0.82       643\n",
      "   macro avg       0.80      0.75      0.77       643\n",
      "weighted avg       0.81      0.82      0.81       643\n",
      "\n"
     ]
    }
   ],
   "source": [
    "# Evaluación final en el conjunto de prueba\n",
    "y_test_pred = best_rf.predict(X_test)\n",
    "print(\"Accuracy en prueba:\", accuracy_score(y_test, y_test_pred))\n",
    "print(\"Reporte de clasificación en prueba:\")\n",
    "print(classification_report(y_test, y_test_pred))"
   ]
  },
  {
   "cell_type": "markdown",
   "id": "prueba-cordura",
   "metadata": {},
   "source": [
    "## Prueba de Cordura\n",
    "\n",
    "Para verificar que el modelo tiene un comportamiento razonable, examinamos la distribución de las predicciones en el conjunto de prueba."
   ]
  },
  {
   "cell_type": "code",
   "execution_count": 5,
   "id": "sanity-check",
   "metadata": {},
   "outputs": [
    {
     "data": {
      "image/png": "[encoded data removed]",
      "text/plain": [
       "<Figure size 640x480 with 1 Axes>"
      ]
     },
     "metadata": {},
     "output_type": "display_data"
    }
   ],
   "source": [
    "# Verificar la distribución de predicciones\n",
    "unique, counts = np.unique(y_test_pred, return_counts=True)\n",
    "plt.figure()\n",
    "plt.bar(unique, counts)\n",
    "plt.xlabel(\"Clase predicha\")\n",
    "plt.ylabel(\"Frecuencia\")\n",
    "plt.title(\"Distribución de predicciones en el conjunto de prueba\")\n",
    "plt.show()"
   ]
  },
  {
   "cell_type": "markdown",
   "id": "conclusiones",
   "metadata": {},
   "source": [
    "## Conclusiones\n",
    "\n",
    "En este notebook se ha:\n",
    "\n",
    "- Explorado y analizado el dataset\n",
    "- Dividido los datos en entrenamiento, validación y prueba\n",
    "- Ajustado un modelo de Random Forest mediante GridSearchCV\n",
    "- Evaluado el modelo en conjuntos de validación y prueba\n",
    "    - Se han analizado métricas como la precisión, recall y F1-score\n",
    "- Realizado una prueba de cordura para verificar la distribución de las predicciones\n",
    "\n",
    "Estos pasos permiten obtener un modelo robusto y validar que se comporta de manera coherente con los datos y la problemática planteada."
   ]
  }
 ],
 "metadata": {
  "kernelspec": {
   "display_name": "base",
   "language": "python",
   "name": "python3"
  },
  "language_info": {
   "codemirror_mode": {
    "name": "ipython",
    "version": 3
   },
   "file_extension": ".py",
   "mimetype": "text/x-python",
   "name": "python",
   "nbconvert_exporter": "python",
   "pygments_lexer": "ipython3",
   "version": "3.12.4"
  }
 },
 "nbformat": 4,
 "nbformat_minor": 5
}
